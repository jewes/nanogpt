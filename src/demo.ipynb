{
 "cells": [
  {
   "cell_type": "code",
   "outputs": [
    {
     "data": {
      "text/plain": "<torch._C.Generator at 0x10e32e9b0>"
     },
     "execution_count": 13,
     "metadata": {},
     "output_type": "execute_result"
    }
   ],
   "source": [
    "import torch\n",
    "import torch.nn as nn\n",
    "import torch.nn.functional as F\n",
    "\n",
    "torch.manual_seed(1337)"
   ],
   "metadata": {
    "collapsed": false,
    "ExecuteTime": {
     "end_time": "2024-06-29T02:23:42.987151Z",
     "start_time": "2024-06-29T02:23:42.893099Z"
    }
   },
   "id": "bf8a1984be9fdce2",
   "execution_count": 13
  },
  {
   "cell_type": "code",
   "outputs": [],
   "source": [
    "embed_table=nn.Embedding(10, 10)"
   ],
   "metadata": {
    "collapsed": false,
    "ExecuteTime": {
     "end_time": "2024-06-29T02:24:01.204462Z",
     "start_time": "2024-06-29T02:24:01.196273Z"
    }
   },
   "id": "33fe0f24f44d8561",
   "execution_count": 14
  },
  {
   "cell_type": "code",
   "outputs": [
    {
     "name": "stdout",
     "output_type": "stream",
     "text": [
      "tensor([[ 0.1808, -0.0700, -0.3596, -0.9152,  0.6258,  0.0255,  0.9545,  0.0643,\n",
      "          0.3612,  1.1679],\n",
      "        [-1.3499, -0.5102,  0.2360, -0.2398, -0.9211,  1.5433,  1.3488, -0.1396,\n",
      "          0.2858,  0.9651]], grad_fn=<EmbeddingBackward0>)\n"
     ]
    }
   ],
   "source": [
    "logits = embed_table(torch.tensor([0, 1]))\n",
    "print(logits)\n"
   ],
   "metadata": {
    "collapsed": false,
    "ExecuteTime": {
     "end_time": "2024-06-29T02:25:35.232855Z",
     "start_time": "2024-06-29T02:25:35.224669Z"
    }
   },
   "id": "1c760eebe0405643",
   "execution_count": 16
  },
  {
   "cell_type": "code",
   "outputs": [
    {
     "name": "stdout",
     "output_type": "stream",
     "text": [
      "Softmax:\n",
      " tensor([[0.2424, 0.6590, 0.0986],\n",
      "        [0.3311, 0.2219, 0.4469],\n",
      "        [0.6285, 0.2312, 0.1402]])\n",
      "Probs:\n",
      " tensor([0.6590, 0.3311, 0.1402])\n",
      "Negative Log-Likelihood:\n",
      " tensor([0.4170, 1.1053, 1.9644])\n",
      "Cross Entropy Loss:\n",
      " tensor(1.1622)\n",
      "PyTorch Cross Entropy Loss:\n",
      " tensor(1.1622)\n"
     ]
    }
   ],
   "source": [
    "import torch\n",
    "import torch.nn.functional as F\n",
    "\n",
    "# 假设有一个简单的批次，包括三个样本，每个样本属于三个类别之一\n",
    "logits = torch.tensor([[1.0, 2.0, 0.1], [1.2, 0.8, 1.5], [2.0, 1.0, 0.5]])\n",
    "labels = torch.tensor([1, 0, 2])\n",
    "\n",
    "# 1. 计算softmax\n",
    "softmax = torch.softmax(logits, dim=1)\n",
    "print(\"Softmax:\\n\", softmax)\n",
    "\n",
    "# 2. 取对应标签的概率\n",
    "# 我们需要用gather方法来选择每个样本中对应真实标签的概率\n",
    "# 这里的gather方法用来按照标签索引提取概率\n",
    "labels = labels.view(-1, 1)  # 将labels调整为列向量\n",
    "probs = softmax.gather(1, labels).squeeze()\n",
    "print(\"Probs:\\n\", probs)\n",
    "\n",
    "# 3. 计算负对数似然\n",
    "neg_log_likelihood = -torch.log(probs)\n",
    "print(\"Negative Log-Likelihood:\\n\", neg_log_likelihood)\n",
    "\n",
    "# 4. 求均值，得到最终的交叉熵损失\n",
    "loss = neg_log_likelihood.mean()\n",
    "print(\"Cross Entropy Loss:\\n\", loss)\n",
    "\n",
    "# 使用PyTorch的cross_entropy函数进行验证\n",
    "cross_entropy_loss = F.cross_entropy(logits, labels.view(-1))\n",
    "print(\"PyTorch Cross Entropy Loss:\\n\", cross_entropy_loss)\n"
   ],
   "metadata": {
    "collapsed": false,
    "ExecuteTime": {
     "end_time": "2024-06-29T02:38:13.157559Z",
     "start_time": "2024-06-29T02:38:13.130319Z"
    }
   },
   "id": "62457b00776b9e84",
   "execution_count": 18
  },
  {
   "cell_type": "code",
   "outputs": [
    {
     "name": "stdout",
     "output_type": "stream",
     "text": [
      "tensor([[1],\n",
      "        [0],\n",
      "        [2]])\n"
     ]
    }
   ],
   "source": [
    "print(labels)"
   ],
   "metadata": {
    "collapsed": false,
    "ExecuteTime": {
     "end_time": "2024-06-29T02:38:34.821818Z",
     "start_time": "2024-06-29T02:38:34.814049Z"
    }
   },
   "id": "b8b37bcb9b3ba56d",
   "execution_count": 19
  },
  {
   "cell_type": "code",
   "outputs": [
    {
     "name": "stdout",
     "output_type": "stream",
     "text": [
      "loading input.txt ... \n"
     ]
    }
   ],
   "source": [
    "from text_gen import TextGenerator\n",
    "text_gen = TextGenerator()"
   ],
   "metadata": {
    "collapsed": false,
    "ExecuteTime": {
     "end_time": "2024-06-29T04:36:41.418989Z",
     "start_time": "2024-06-29T04:36:40.005146Z"
    }
   },
   "id": "f6679a360d0491b6",
   "execution_count": 20
  },
  {
   "cell_type": "code",
   "outputs": [
    {
     "ename": "IndexError",
     "evalue": "too many indices for tensor of dimension 2",
     "output_type": "error",
     "traceback": [
      "\u001B[0;31m---------------------------------------------------------------------------\u001B[0m",
      "\u001B[0;31mIndexError\u001B[0m                                Traceback (most recent call last)",
      "Cell \u001B[0;32mIn[22], line 1\u001B[0m\n\u001B[0;32m----> 1\u001B[0m \u001B[43mtext_gen\u001B[49m\u001B[38;5;241;43m.\u001B[39;49m\u001B[43mgenerate\u001B[49m\u001B[43m(\u001B[49m\u001B[43minput_text\u001B[49m\u001B[38;5;241;43m=\u001B[39;49m\u001B[38;5;124;43m\"\u001B[39;49m\u001B[38;5;124;43mh\u001B[39;49m\u001B[38;5;124;43m\"\u001B[39;49m\u001B[43m)\u001B[49m\n",
      "File \u001B[0;32m~/workspace/nanogpt/src/text_gen.py:42\u001B[0m, in \u001B[0;36mTextGenerator.generate\u001B[0;34m(self, input_text, max_new_token)\u001B[0m\n\u001B[1;32m     40\u001B[0m \u001B[38;5;28;01mif\u001B[39;00m input_text \u001B[38;5;129;01mis\u001B[39;00m \u001B[38;5;129;01mnot\u001B[39;00m \u001B[38;5;28;01mNone\u001B[39;00m:\n\u001B[1;32m     41\u001B[0m     input_data \u001B[38;5;241m=\u001B[39m torch\u001B[38;5;241m.\u001B[39mtensor((\u001B[38;5;28mself\u001B[39m\u001B[38;5;241m.\u001B[39mtokenizer\u001B[38;5;241m.\u001B[39mencode(input_text)))\n\u001B[0;32m---> 42\u001B[0m \u001B[38;5;28;01mreturn\u001B[39;00m \u001B[38;5;28mself\u001B[39m\u001B[38;5;241m.\u001B[39mtokenizer\u001B[38;5;241m.\u001B[39mdecode(\u001B[38;5;28;43mself\u001B[39;49m\u001B[38;5;241;43m.\u001B[39;49m\u001B[43mmodel\u001B[49m\u001B[38;5;241;43m.\u001B[39;49m\u001B[43mgenerate\u001B[49m\u001B[43m(\u001B[49m\u001B[43minput_data\u001B[49m\u001B[43m,\u001B[49m\u001B[43m \u001B[49m\u001B[43mmax_new_token\u001B[49m\u001B[38;5;241;43m=\u001B[39;49m\u001B[43mmax_new_token\u001B[49m\u001B[43m)\u001B[49m[\u001B[38;5;241m0\u001B[39m]\u001B[38;5;241m.\u001B[39mtolist())\n",
      "File \u001B[0;32m~/workspace/nanogpt/src/model.py:38\u001B[0m, in \u001B[0;36mBigramModel.generate\u001B[0;34m(self, idx, max_new_token)\u001B[0m\n\u001B[1;32m     33\u001B[0m logits, _ \u001B[38;5;241m=\u001B[39m \u001B[38;5;28mself\u001B[39m(idx)\n\u001B[1;32m     35\u001B[0m \u001B[38;5;66;03m# the input is like: i am<next>\u001B[39;00m\n\u001B[1;32m     36\u001B[0m \u001B[38;5;66;03m# the logits shape: B, T, C\u001B[39;00m\n\u001B[1;32m     37\u001B[0m \u001B[38;5;66;03m# we only predict the next token by the current token, so we extract the last one of T\u001B[39;00m\n\u001B[0;32m---> 38\u001B[0m logits \u001B[38;5;241m=\u001B[39m \u001B[43mlogits\u001B[49m\u001B[43m[\u001B[49m\u001B[43m:\u001B[49m\u001B[43m,\u001B[49m\u001B[43m \u001B[49m\u001B[38;5;241;43m-\u001B[39;49m\u001B[38;5;241;43m1\u001B[39;49m\u001B[43m,\u001B[49m\u001B[43m \u001B[49m\u001B[43m:\u001B[49m\u001B[43m]\u001B[49m\n\u001B[1;32m     40\u001B[0m \u001B[38;5;66;03m# the probability of each token\u001B[39;00m\n\u001B[1;32m     41\u001B[0m probs \u001B[38;5;241m=\u001B[39m F\u001B[38;5;241m.\u001B[39msoftmax(logits, dim\u001B[38;5;241m=\u001B[39m\u001B[38;5;241m-\u001B[39m\u001B[38;5;241m1\u001B[39m)\n",
      "\u001B[0;31mIndexError\u001B[0m: too many indices for tensor of dimension 2"
     ]
    }
   ],
   "source": [
    "text_gen.generate(input_text=\"h\")"
   ],
   "metadata": {
    "collapsed": false,
    "ExecuteTime": {
     "end_time": "2024-06-29T04:37:07.587864Z",
     "start_time": "2024-06-29T04:37:07.529239Z"
    }
   },
   "id": "e357b79971dee9df",
   "execution_count": 22
  },
  {
   "cell_type": "code",
   "outputs": [
    {
     "name": "stdout",
     "output_type": "stream",
     "text": [
      "tensor([[47, 40, 24, 12, 55, 28,  7, 29, 35, 49, 58]])\n"
     ]
    }
   ],
   "source": [
    "xs = text_gen.tokenizer.encode(\"i\")\n",
    "xs = torch.tensor([xs])\n",
    "ys = text_gen.model.generate(xs, max_new_token=10)\n",
    "print(ys)"
   ],
   "metadata": {
    "collapsed": false,
    "ExecuteTime": {
     "end_time": "2024-06-29T04:39:18.948071Z",
     "start_time": "2024-06-29T04:39:17.644637Z"
    }
   },
   "id": "130ac04530840343",
   "execution_count": 25
  },
  {
   "cell_type": "code",
   "outputs": [
    {
     "name": "stdout",
     "output_type": "stream",
     "text": [
      "torch.Size([8, 16])\n"
     ]
    }
   ],
   "source": [
    "query=nn.Linear(32, 16)\n",
    "x = torch.rand(8, 32)\n",
    "q = query(x)\n",
    "print(q.shape)"
   ],
   "metadata": {
    "collapsed": false,
    "ExecuteTime": {
     "end_time": "2024-06-29T07:23:15.935382Z",
     "start_time": "2024-06-29T07:23:15.924140Z"
    }
   },
   "id": "271b7d3c0ac565ff",
   "execution_count": 26
  },
  {
   "cell_type": "code",
   "outputs": [],
   "source": [],
   "metadata": {
    "collapsed": false
   },
   "id": "c046e93656c412be"
  }
 ],
 "metadata": {
  "kernelspec": {
   "display_name": "Python 3",
   "language": "python",
   "name": "python3"
  },
  "language_info": {
   "codemirror_mode": {
    "name": "ipython",
    "version": 2
   },
   "file_extension": ".py",
   "mimetype": "text/x-python",
   "name": "python",
   "nbconvert_exporter": "python",
   "pygments_lexer": "ipython2",
   "version": "2.7.6"
  }
 },
 "nbformat": 4,
 "nbformat_minor": 5
}
